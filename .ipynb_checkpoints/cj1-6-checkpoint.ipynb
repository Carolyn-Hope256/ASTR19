{
 "cells": [
  {
   "cell_type": "markdown",
   "id": "fb171468-a651-4813-bd4e-71b64c4a61a9",
   "metadata": {},
   "source": [
    "Imports"
   ]
  },
  {
   "cell_type": "code",
   "execution_count": 45,
   "id": "d5919271-0235-4b57-a2a8-fb76e788191f",
   "metadata": {},
   "outputs": [],
   "source": [
    "import numpy as np \n",
    "import math\n",
    "from astropy.table import Table\n",
    "from astropy.io import ascii \n",
    "from astropy.io import fits"
   ]
  },
  {
   "cell_type": "markdown",
   "id": "37d65f40-2d33-49d9-8963-5ccd58fa3893",
   "metadata": {},
   "source": [
    "Sin(x) and Cos(x)"
   ]
  },
  {
   "cell_type": "code",
   "execution_count": 46,
   "id": "4d73a235-7ff1-4952-bb83-509ac6c6eeb8",
   "metadata": {},
   "outputs": [],
   "source": [
    "def s(x):\n",
    "    return(np.sin(x))"
   ]
  },
  {
   "cell_type": "code",
   "execution_count": 47,
   "id": "e3c8f9a3-7550-469a-9edf-e8c6967bd651",
   "metadata": {},
   "outputs": [],
   "source": [
    "def c(x):\n",
    "    return(np.cos(x))"
   ]
  },
  {
   "cell_type": "markdown",
   "id": "6795bb7b-24ae-4fd9-97e8-5123e22bb38c",
   "metadata": {},
   "source": [
    "Tabulating"
   ]
  },
  {
   "cell_type": "code",
   "execution_count": 48,
   "id": "3b971463-3f31-453a-990a-c9a9722e86c7",
   "metadata": {},
   "outputs": [],
   "source": [
    "x = np.linspace(0, 2*math.pi, 1000)\n",
    "\n",
    "trigtable = Table([x, s(x), c(x)], names=['x','sin(x)','cos(x)'])\n",
    "ascii.write(trigtable, 'trig.txt', format='commented_header', overwrite = True)\n",
    "infile = ascii.read('trig.txt') \n",
    "\n",
    "\n"
   ]
  },
  {
   "cell_type": "raw",
   "id": "593e5855-f813-44a7-a3fc-b61190b3042a",
   "metadata": {},
   "source": [
    "Printing first 10 rows"
   ]
  },
  {
   "cell_type": "code",
   "execution_count": 49,
   "id": "28d1cd3b-c762-485d-89e9-57cb437536bb",
   "metadata": {},
   "outputs": [
    {
     "name": "stdout",
     "output_type": "stream",
     "text": [
      " x  sin(x) cos(x)\n",
      "--- ------ ------\n",
      "0.0    0.0    1.0\n",
      "         x                  sin(x)              cos(x)      \n",
      "-------------------- -------------------- ------------------\n",
      "0.006289474781961547 0.006289433316067751 0.9999802213186832\n",
      "         x                  sin(x)              cos(x)      \n",
      "-------------------- -------------------- ------------------\n",
      "0.012578949563923095 0.012578617838741058 0.9999208860571255\n",
      "         x                  sin(x)             cos(x)      \n",
      "-------------------- ------------------- ------------------\n",
      "0.018868424345884642 0.01886730478446709 0.9998219965624732\n",
      "         x                 sin(x)              cos(x)      \n",
      "------------------- -------------------- ------------------\n",
      "0.02515789912784619 0.025155245389375847 0.9996835567465339\n",
      "         x                sin(x)             cos(x)      \n",
      "------------------- ------------------ ------------------\n",
      "0.03144737390980774 0.0314421909191206 0.9995055720856215\n",
      "         x                  sin(x)            cos(x)     \n",
      "-------------------- ------------------- ----------------\n",
      "0.037736848691769284 0.03772789267871718 0.99928804962034\n",
      "         x                 sin(x)             cos(x)      \n",
      "------------------- ------------------- ------------------\n",
      "0.04402632347373083 0.04401210202238166 0.9990309979553044\n",
      "         x                 sin(x)             cos(x)      \n",
      "------------------- ------------------- ------------------\n",
      "0.05031579825569238 0.05029457036336618 0.9987344272588006\n",
      "         x                  sin(x)              cos(x)      \n",
      "-------------------- -------------------- ------------------\n",
      "0.056605273037653926 0.056575049183792345 0.9983983492623831\n"
     ]
    }
   ],
   "source": [
    "for i in range(10):\n",
    "    print(infile[i])"
   ]
  },
  {
   "cell_type": "markdown",
   "id": "2dae6961-6c9b-49c5-bd0e-06277d9e0760",
   "metadata": {},
   "source": [
    "Printing the first 10 rows in a more elegant way that doesnt fulfill the assignment :P"
   ]
  },
  {
   "cell_type": "code",
   "execution_count": 50,
   "id": "d3dff67b-626e-43e4-bf09-a2ce231e77a5",
   "metadata": {
    "scrolled": true
   },
   "outputs": [
    {
     "name": "stdout",
     "output_type": "stream",
     "text": [
      "         x                  sin(x)              cos(x)      \n",
      "-------------------- -------------------- ------------------\n",
      "                 0.0                  0.0                1.0\n",
      "0.006289474781961547 0.006289433316067751 0.9999802213186832\n",
      "0.012578949563923095 0.012578617838741058 0.9999208860571255\n",
      "0.018868424345884642  0.01886730478446709 0.9998219965624732\n",
      " 0.02515789912784619 0.025155245389375847 0.9996835567465339\n",
      " 0.03144737390980774   0.0314421909191206 0.9995055720856215\n",
      "0.037736848691769284  0.03772789267871718   0.99928804962034\n",
      " 0.04402632347373083  0.04401210202238166 0.9990309979553044\n",
      " 0.05031579825569238  0.05029457036336618 0.9987344272588006\n",
      "0.056605273037653926 0.056575049183792345 0.9983983492623831\n"
     ]
    }
   ],
   "source": [
    "print(infile[0:10])"
   ]
  }
 ],
 "metadata": {
  "kernelspec": {
   "display_name": "Python 3 (ipykernel)",
   "language": "python",
   "name": "python3"
  },
  "language_info": {
   "codemirror_mode": {
    "name": "ipython",
    "version": 3
   },
   "file_extension": ".py",
   "mimetype": "text/x-python",
   "name": "python",
   "nbconvert_exporter": "python",
   "pygments_lexer": "ipython3",
   "version": "3.11.5"
  }
 },
 "nbformat": 4,
 "nbformat_minor": 5
}
